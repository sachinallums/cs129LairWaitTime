{
 "cells": [
  {
   "cell_type": "markdown",
   "id": "aa5cb440",
   "metadata": {},
   "source": [
    "# Predicting Student Wait Time at LAIR for Stanford’s Introductory Computer Science Courses\n",
    "\n",
    "## Project Group:\n",
    "Sachin Allums (sachino)\\\n",
    "Justin Blumencranz (jmb25)\\\n",
    "Andrew Hong (amhong)\\\n",
    "Mahathi Mangipudi (mahathim)\n",
    "\n",
    "Stanford enrolls over 2500 students each year in its two introductory computer science courses: CS106A and CS106B. These students have the opportunity to make use of LaIR, a space where they can receive one-on-one help from a section leader with their code for a given assignment. Currently, section leaders of the course are recommended to spend 15 minutes on each help request to better manage the flow of assistance. The purpose of our project is to develop a model that can predict how long students have to wait to receive help based on the assignment they are completing, the time they go to LaIR, and the number of days they go before the assignment deadline, among other features. \n",
    "\n",
    "## Model Selection\n",
    "\n",
    "We have chosen to implement a linear regression model, which will take in a variety of features describing the context of a single LaIR request and output an estimated wait time for the student to recieve help."
   ]
  },
  {
   "cell_type": "markdown",
   "id": "315e3324",
   "metadata": {},
   "source": [
    "***"
   ]
  },
  {
   "cell_type": "markdown",
   "id": "b665b5fc",
   "metadata": {
    "jp-MarkdownHeadingCollapsed": true
   },
   "source": [
    "# Import Packages\n",
    "Here we import all of the libraries/packages we will need to train and analyze our model"
   ]
  },
  {
   "cell_type": "code",
   "execution_count": 1,
   "id": "784f4bf6",
   "metadata": {},
   "outputs": [],
   "source": [
    "# import tensorflow as tf\n",
    "# from tensorflow import keras\n",
    "# from keras.models import Sequential\n",
    "# from keras.layers import Dense\n",
    "# from tensorflow.keras import regularizers\n",
    "# from tensorflow.keras.layers import LayerNormalization\n",
    "import matplotlib.pyplot as plt\n",
    "import numpy as np\n",
    "import pandas as pd\n",
    "import copy, math\n",
    "from sklearn import preprocessing\n",
    "from sklearn.model_selection import train_test_split\n",
    "\n",
    "# Make NumPy printouts easier to read.\n",
    "np.set_printoptions(precision=3, suppress=True)"
   ]
  },
  {
   "cell_type": "markdown",
   "id": "05f3a860",
   "metadata": {},
   "source": [
    "# Pre-Training Steps"
   ]
  },
  {
   "cell_type": "markdown",
   "id": "6fbf9cf7",
   "metadata": {},
   "source": [
    "Below are the neccesary functions to load in the data from our dataset"
   ]
  },
  {
   "cell_type": "code",
   "execution_count": 2,
   "id": "42dd574e",
   "metadata": {},
   "outputs": [],
   "source": [
    "def split_dataset(filepath, x_labels, y_labels, training_only=False, normalization=True):\n",
    "    # Load dataset from filepath\n",
    "    # dtype = {\"waitTime\": int, \"daysLeftClean\": float, \"numInQueue\": float}\n",
    "    dataset = pd.read_csv(filepath)\n",
    "\n",
    "    # Convert all cells to floats\n",
    "    for column in dataset.columns:\n",
    "        dataset[column] = pd.to_numeric(dataset[column], errors='coerce')\n",
    "    \n",
    "    # Split the data\n",
    "    train, test = train_test_split(dataset, test_size=1-TRAIN_SIZE)\n",
    "    test, cv = train_test_split(test, test_size=TEST_SIZE/(1-TRAIN_SIZE))\n",
    "\n",
    "    # Print Split Sizes\n",
    "    print(f\"Total number of examples: {len(dataset)}\")\n",
    "    print(f\"Sizes of TRAIN, CV, TEST: [{len(train)},{len(cv)},{len(test)}]\")\n",
    "    \n",
    "    # Define Dictionaries\n",
    "    TRAIN = {\n",
    "        'X' : np.array(train[x_labels]),\n",
    "        'Y' : np.array(train[y_labels])\n",
    "    }\n",
    "    \n",
    "    CV = {\n",
    "        'X' : np.array(cv[x_labels]),\n",
    "        'Y' : np.array(cv[y_labels])\n",
    "    }\n",
    "    \n",
    "    TEST = {\n",
    "        'X' : np.array(test[x_labels]),\n",
    "        'Y' : np.array(test[y_labels])\n",
    "    }\n",
    "    \n",
    "    # Print Split Shapes\n",
    "    print(f\"X TRAIN Shape: {TRAIN['X'].shape}, X Type:{type(TRAIN['X'])})\")\n",
    "    print(f\"y TRAIN Shape: {TRAIN['Y'].shape}, y Type:{type(TRAIN['Y'])})\")\n",
    "    print(f\"X CV Shape: {CV['X'].shape}, X CV Type:{type(CV['X'])})\")\n",
    "    print(f\"y CV Shape: {CV['Y'].shape}, y CV Type:{type(CV['Y'])})\")\n",
    "    print(f\"X TEST Shape: {TEST['X'].shape}, X CV Type:{type(CV['X'])})\")\n",
    "    print(f\"y TEST Shape: {TEST['Y'].shape}, y CV Type:{type(TEST['Y'])})\")\n",
    "\n",
    "    if normalization:\n",
    "        scaler = preprocessing.StandardScaler().fit(TRAIN['X'])\n",
    "\n",
    "        TRAIN['X'] = scaler.transform(TRAIN['X'])\n",
    "        CV['X'] = scaler.transform(CV['X'])\n",
    "        TEST['X'] = scaler.transform(TEST['X'])\n",
    "    \n",
    "    if training_only: return TRAIN\n",
    "    else: return TRAIN, CV, TEST\n"
   ]
  },
  {
   "cell_type": "markdown",
   "id": "9e0a6e71-6cf0-4003-a369-afdf43647a31",
   "metadata": {},
   "source": [
    "# Training Utility Functions: Linear Regression\n",
    "Below are the functions used to train the model using gradient decent with MSE cost."
   ]
  },
  {
   "cell_type": "code",
   "execution_count": 3,
   "id": "d5a88f93-17b5-4529-bfbb-cc21edd45daf",
   "metadata": {},
   "outputs": [],
   "source": [
    "def compute_cost(X, y, w, b, lambda_=0): \n",
    "    \"\"\"\n",
    "    compute cost\n",
    "    Args:\n",
    "      X (ndarray (m,n)): Data, m examples with n features\n",
    "      y (ndarray (m,)) : target values\n",
    "      w (ndarray (n,)) : model parameters  \n",
    "      b (scalar)       : model parameter\n",
    "      \n",
    "    Returns:\n",
    "      cost (scalar): cost\n",
    "    \"\"\"\n",
    "    m = X.shape[0]\n",
    "    f_wb = (X @ w) + b\n",
    "    error = (f_wb - y)\n",
    "    regularization = (lambda_ / m) * (w @ w)\n",
    "    return (error @ error) / (2 * m) + regularization"
   ]
  },
  {
   "cell_type": "code",
   "execution_count": 4,
   "id": "5212bf04-8bd5-48c3-b807-c63e2d554979",
   "metadata": {},
   "outputs": [],
   "source": [
    "def compute_gradient(X, y, w, b, lambda_=0): \n",
    "    \"\"\"\n",
    "    Computes the gradient for linear regression \n",
    "    Args:\n",
    "      X (ndarray (m,n)): Data, m examples with n features\n",
    "      y (ndarray (m,)) : target values\n",
    "      w (ndarray (n,)) : model parameters  \n",
    "      b (scalar)       : model parameter\n",
    "      \n",
    "    Returns:\n",
    "      dj_dw (ndarray (n,)): The gradient of the cost w.r.t. the parameters w. \n",
    "      dj_db (scalar):       The gradient of the cost w.r.t. the parameter b. \n",
    "    \"\"\"\n",
    "    m = X.shape[0]\n",
    "    error = (X @ w) + b - y\n",
    "    dj_dw = ((np.transpose(X) @ error) + (lambda_ * w)) / m\n",
    "    dj_db = np.sum(error) / m\n",
    "    return dj_db, dj_dw "
   ]
  },
  {
   "cell_type": "code",
   "execution_count": 16,
   "id": "b9efd65a-d686-4e7a-b88a-5c95af7a6d48",
   "metadata": {},
   "outputs": [],
   "source": [
    "def gradient_descent(TRAIN, CV, w_in, b_in, cost_function, gradient_function, alpha, num_iters, lambda_): \n",
    "    \"\"\"\n",
    "    Performs batch gradient descent to learn w and b. Updates w and b by taking \n",
    "    num_iters gradient steps with learning rate alpha\n",
    "    \n",
    "    Args:\n",
    "      X (ndarray (m,n))   : Data, m examples with n features\n",
    "      y (ndarray (m,))    : target values\n",
    "      w_in (ndarray (n,)) : initial model parameters  \n",
    "      b_in (scalar)       : initial model parameter\n",
    "      cost_function       : function to compute cost\n",
    "      gradient_function   : function to compute the gradient\n",
    "      alpha (float)       : Learning rate\n",
    "      num_iters (int)     : number of iterations to run gradient descent\n",
    "      \n",
    "    Returns:\n",
    "      w (ndarray (n,)) : Updated values of parameters \n",
    "      b (scalar)       : Updated value of parameter \n",
    "      \"\"\"\n",
    "\n",
    "    X_train = TRAIN['X']\n",
    "    Y_train = TRAIN['Y']\n",
    "\n",
    "    X_cv = CV['X']\n",
    "    Y_cv = CV['Y']\n",
    "    \n",
    "    # An array to store cost J and w's at each iteration primarily for graphing later\n",
    "    J_train_history = []\n",
    "    J_cv_history = []\n",
    "    w = copy.deepcopy(w_in)  #avoid modifying global w within function\n",
    "    b = b_in\n",
    "    \n",
    "    for i in range(num_iters):\n",
    "\n",
    "        # Calculate the gradient and update the parameters\n",
    "        dj_db,dj_dw = gradient_function(X, y, w, b)   ##None\n",
    "\n",
    "        # Update Parameters using w, b, alpha and gradient\n",
    "        w = w - alpha * dj_dw               ##None\n",
    "        b = b - alpha * dj_db               ##None\n",
    "      \n",
    "        # Save cost J at each iteration\n",
    "        if i<100000:      # prevent resource exhaustion \n",
    "            J_train_history.append( cost_function(X_train, Y_train, w, b, lambda_=lambda_))\n",
    "            J_cv_history.append( cost_function(X_cv, Y_cv, w, b, lambda_=lambda_))\n",
    "\n",
    "        # Print cost every at intervals 10 times or as many iterations if < 10\n",
    "        if i% math.ceil(num_iters / 10) == 0:\n",
    "            print(f\"Iteration {i:4d}: Cost {J_history[-1]:8.2f}   \")\n",
    "        \n",
    "    return w, b, J_train_history, J_cv_history #return final w,b and J history for graphing"
   ]
  },
  {
   "cell_type": "code",
   "execution_count": 6,
   "id": "6dca10b7-740b-41ad-bcdf-3cb4c687c124",
   "metadata": {},
   "outputs": [],
   "source": [
    "def predict(x, w, b): \n",
    "    \"\"\"\n",
    "    single predict using linear regression\n",
    "    Args:\n",
    "      x (ndarray): Shape (n,) example with multiple features\n",
    "      w (ndarray): Shape (n,) model parameters   \n",
    "      b (scalar):             model parameter \n",
    "      \n",
    "    Returns:\n",
    "      p (scalar):  prediction\n",
    "    \"\"\"\n",
    "    return (x @ w) + b      "
   ]
  },
  {
   "cell_type": "code",
   "execution_count": 7,
   "id": "b0a2def3-92d1-4faf-bb86-bad3cf0f3310",
   "metadata": {},
   "outputs": [],
   "source": [
    "def train_linear_regression(X_train, Y_train, return_history=True):\n",
    "    m, n = X_train.shape\n",
    "\n",
    "    # Step 1: Initialize Parameters\n",
    "    w = W_INIT(n)                          # Calls lambda W_INIT to populate w with n weights\n",
    "    b = B_INIT                             # Scalar quantity\n",
    "    iterations = ITERATIONS\n",
    "    alpha = LEARNING_RATE\n",
    "    lambda_ = LAMBDA\n",
    "\n",
    "    # Step 2: Show Cost Pre-Training\n",
    "    initial_cost = compute_cost(X_train, Y_train, w, b)\n",
    "    print(f\"Initial Cost: {initial_cost}\")\n",
    "\n",
    "\n",
    "#     # Step 3: Show Gradiant Pre-Training\n",
    "#     tmp_dj_db, tmp_dj_dw = compute_gradient_regularized(X_train, Y_train, w, b)\n",
    "#     print(f'dj_db at initial w,b: {tmp_dj_db}')\n",
    "#     print(f'dj_dw at initial w,b: \\n {tmp_dj_dw}')\n",
    "\n",
    "    # Step 4: Run Gradient Decent\n",
    "    w_final, b_final, J_train_hist, J_cv_hist = gradient_descent(X_train, Y_train, w, b,\n",
    "                                                    compute_cost, compute_gradient, \n",
    "                                                    alpha, iterations, lambda_)\n",
    "#    print(f\"w, b found by gradient descent:\\nw= {w_final}\\nb= {b_final:0.2f}\")\n",
    "\n",
    "    print(\"Finished Running Gradient Descent\")\n",
    "\n",
    "    # Step 5: Print a few predictions\n",
    "    num_shown_predictions = 5\n",
    "    for i in range(num_shown_predictions):\n",
    "        print(f\"prediction: {np.dot(X_train[i], w_final) + b_final:0.2f}, target value: {Y_train[i]}\")\n",
    "    \n",
    "    # Step 6: Return trained weights and bias\n",
    "    if return_history: return w_final, b_final, J_hist\n",
    "    else: return w_final, b_final"
   ]
  },
  {
   "cell_type": "markdown",
   "id": "89c1c135",
   "metadata": {
    "jp-MarkdownHeadingCollapsed": true
   },
   "source": [
    "# Analysis Utility Functions\n",
    "Below are functions used to analyze the performance of the model on the split dataset"
   ]
  },
  {
   "cell_type": "code",
   "execution_count": 8,
   "id": "af708f1e-34c5-4374-891a-9a974f0b73fc",
   "metadata": {},
   "outputs": [],
   "source": [
    "def predicted_mean_error(split, w, b):\n",
    "    \"\"\"\n",
    "    Computes the absolute errors between the predictions and the true labels for each example.\n",
    "\n",
    "    Parameters:\n",
    "    - X: Matrix of input features (m examples by n features)\n",
    "    - Y: Vector of true labels (m examples by 1)\n",
    "    - w: Weight vector (n features by 1)\n",
    "    - b: Bias term (scalar)\n",
    "\n",
    "    Returns:\n",
    "    - errors: Absolute errors (m examples by 1)\n",
    "    \"\"\"\n",
    "    X = split['X']\n",
    "    Y = split['Y']\n",
    "    predictions = predict(X, w, b)\n",
    "    errors = np.abs(predictions - Y)\n",
    "    return np.mean(errors)"
   ]
  },
  {
   "cell_type": "code",
   "execution_count": 9,
   "id": "349e9b4c-360b-49a2-97d4-89d70f6aed9b",
   "metadata": {},
   "outputs": [],
   "source": [
    "def naive_mean_error(split):\n",
    "    numInQueue = np.array(split['X'][:, 1])  # Ensure numInQueue is a NumPy array\n",
    "    # numTAs = np.array(split['X'][:, 7])\n",
    "    numTAs = 17\n",
    "    true_labels = split['Y']\n",
    "\n",
    "    # Expected minutes until active TAs finish their current request (assuming uniform distribution from 0-15 minutes)\n",
    "    expected_time_into_session = 7.5\n",
    "\n",
    "    # Assuming the total remaining current session time is the same for each queue entry, as it's a fixed value based on our assumptions\n",
    "    total_remaining_current_session_time = expected_time_into_session\n",
    "\n",
    "    # Total rounds SL help needed to help everyone in the queue, calculated for the entire array at once\n",
    "    total_rounds = np.ceil(numInQueue / numTAs)\n",
    "\n",
    "    # Time for the queue is rounds times the average session length (assuming each round takes about 15 minutes on average)\n",
    "    total_time_for_queue = total_rounds * 15\n",
    "\n",
    "    # Estimated wait time is time to finish current sessions + time to get through the queue, for the entire array at once\n",
    "    estimated_wait_time = total_remaining_current_session_time + total_time_for_queue\n",
    "\n",
    "    return np.mean(abs(estimated_wait_time - true_labels))\n"
   ]
  },
  {
   "cell_type": "code",
   "execution_count": 10,
   "id": "82b21615-a5fc-4f89-ad8d-6ed36ad866ab",
   "metadata": {},
   "outputs": [],
   "source": [
    "def plot_mean_errors(naive_values, predicted_values, labels=['TRAIN', 'CV', 'TEST']):\n",
    "    \"\"\"\n",
    "    Plot NAIVE and PREDICTED mean error values for TRAIN, CV, and TEST datasets as a bar graph.\n",
    "\n",
    "    Parameters:\n",
    "    - naive_values: List of NAIVE mean error values for each dataset.\n",
    "    - predicted_values: List of PREDICTED mean error values for each dataset.\n",
    "    - labels: Labels for the datasets (default is ['TRAIN', 'CV', 'TEST']).\n",
    "    \"\"\"\n",
    "    \n",
    "    # Number of dataset categories\n",
    "    n = len(labels)\n",
    "\n",
    "    # X positions for the groups\n",
    "    index = np.arange(n)\n",
    "\n",
    "    # Bar width\n",
    "    bar_width = 0.35\n",
    "\n",
    "    # Opacity for the bars\n",
    "    opacity = 0.8\n",
    "\n",
    "    # Plotting Naive values\n",
    "    plt.bar(index, naive_values, bar_width, alpha=opacity, color='#4169e1', label='Naive')\n",
    "\n",
    "    # Plotting Prediction values\n",
    "    plt.bar(index + bar_width, predicted_values, bar_width, alpha=opacity, color='#dc143c', label='Prediction')\n",
    "\n",
    "    # Add title and axis labels\n",
    "    plt.title('Comparison of NAIVE and PREDICTED Mean Errors')\n",
    "    plt.xlabel('Dataset')\n",
    "    plt.ylabel('MAE')\n",
    "    plt.xticks(index + bar_width / 2, labels)  # Positioning dataset labels\n",
    "\n",
    "    # Adding a legend\n",
    "    plt.legend()\n",
    "\n",
    "    # Optional: Add a grid\n",
    "    plt.grid(True, linestyle='--')\n",
    "\n",
    "    # Show plot\n",
    "    plt.tight_layout()\n",
    "    plt.show()\n"
   ]
  },
  {
   "cell_type": "markdown",
   "id": "755c2b99",
   "metadata": {},
   "source": [
    "# Training\n",
    "Here we will load the dataset and train the model by calling our utility functions"
   ]
  },
  {
   "cell_type": "code",
   "execution_count": 11,
   "id": "a4fa34b0-6523-4a2a-8999-aad24c1b657a",
   "metadata": {},
   "outputs": [],
   "source": [
    "# Filepath to Dataset\n",
    "# FILEPATH = \"master_database_March6_forModeling - master_database_March6 (1).csv\"\n",
    "FILEPATH = \"CLEAN_DATA.csv\"\n",
    "\n",
    "# Define split sizes\n",
    "TRAIN_SIZE = 0.8\n",
    "CV_SIZE = 0.1\n",
    "TEST_SIZE = 0.1\n",
    "\n",
    "# Model hyperparameters\n",
    "LEARNING_RATE = 5.0e-3\n",
    "ITERATIONS = 10000\n",
    "NORMALIZATION = False\n",
    "LAMBDA = 0                                                       # 0 For no regularization\n",
    "B_INIT = 0.01\n",
    "W_INIT = lambda n_features: np.random.uniform(-1, 1, n_features)\n",
    "\n",
    "# Which Columns are Features\n",
    "X_LABELS = [\n",
    "    'numInQueue',\n",
    "    # 'sessionTime',\n",
    "    # 'daysLeftClean',\n",
    "    # 'daysLeft',\n",
    "    # 'hoursToDeadline',\n",
    "    'signUpTimeClean',\n",
    "    # 'adjustedSessionTAs',\n",
    "    'bitAndKarel',\n",
    "    'imagesAndGraphics',\n",
    "    'mapsAndDictionaries',\n",
    "    'lambdas',\n",
    "    'fileReading',\n",
    "    'grids',\n",
    "    'strings',\n",
    "    'userInteraction',\n",
    "    'queuesAndStacks',\n",
    "    'recursion',\n",
    "    'structs',\n",
    "    'objectOrientedProgramming',\n",
    "    'pointersAndMemory',\n",
    "    'sorting',\n",
    "    'hashTables',\n",
    "    'CS106ABinary'\n",
    "]\n",
    "# Which Column is the label\n",
    "Y_LABELS = \"waitTime\"\n",
    "\n",
    "\n",
    "### Don't Touch Anything Below This Line ##################################\n",
    "assert TRAIN_SIZE + CV_SIZE + TEST_SIZE == 1 # Ensure splits add up to 100%\n",
    "assert TRAIN_SIZE > 0\n",
    "assert CV_SIZE > 0\n",
    "assert TEST_SIZE > 0\n",
    "assert len(X_LABELS) > 0\n",
    "assert LEARNING_RATE > 0"
   ]
  },
  {
   "cell_type": "code",
   "execution_count": 12,
   "id": "b248599e",
   "metadata": {},
   "outputs": [
    {
     "name": "stdout",
     "output_type": "stream",
     "text": [
      "Total number of examples: 20013\n",
      "Sizes of TRAIN, CV, TEST: [16010,2002,2001]\n",
      "X TRAIN Shape: (16010, 17), X Type:<class 'numpy.ndarray'>)\n",
      "y TRAIN Shape: (16010,), y Type:<class 'numpy.ndarray'>)\n",
      "X CV Shape: (2002, 17), X CV Type:<class 'numpy.ndarray'>)\n",
      "y CV Shape: (2002,), y CV Type:<class 'numpy.ndarray'>)\n",
      "X TEST Shape: (2001, 17), X CV Type:<class 'numpy.ndarray'>)\n",
      "y TEST Shape: (2001,), y CV Type:<class 'numpy.ndarray'>)\n"
     ]
    }
   ],
   "source": [
    "# Step 1: Load Dataset\n",
    "TRAIN, CV, TEST = split_dataset(FILEPATH, X_LABELS, Y_LABELS, normalization=NORMALIZATION)"
   ]
  },
  {
   "cell_type": "code",
   "execution_count": 13,
   "id": "f941a035",
   "metadata": {},
   "outputs": [
    {
     "name": "stdout",
     "output_type": "stream",
     "text": [
      "Initial Cost: 386.0815409290397\n",
      "Iteration    0: Cost   117.75   \n",
      "Iteration 1000: Cost    89.22   \n",
      "Iteration 2000: Cost    88.49   \n",
      "Iteration 3000: Cost    88.15   \n",
      "Iteration 4000: Cost    87.96   \n",
      "Iteration 5000: Cost    87.85   \n",
      "Iteration 6000: Cost    87.78   \n",
      "Iteration 7000: Cost    87.72   \n",
      "Iteration 8000: Cost    87.68   \n",
      "Iteration 9000: Cost    87.65   \n",
      "Finished Running Gradient Descent\n",
      "prediction: 13.93, target value: 14\n",
      "prediction: 8.71, target value: 5\n",
      "prediction: 3.24, target value: 1\n",
      "prediction: 11.99, target value: 4\n",
      "prediction: 4.05, target value: 4\n"
     ]
    }
   ],
   "source": [
    "# Get training set\n",
    "X_train = TRAIN['X']\n",
    "Y_train = TRAIN['Y']\n",
    "\n",
    "# model = train_neural_network(X_train, Y_train)\n",
    "w, b, J_hist = train_linear_regression(X_train, Y_train, return_history=True)"
   ]
  },
  {
   "cell_type": "markdown",
   "id": "7d4affc6",
   "metadata": {},
   "source": [
    "# Analysis"
   ]
  },
  {
   "cell_type": "code",
   "execution_count": 15,
   "id": "2caca2bb-21fa-4b06-8e90-175a8fd1e81f",
   "metadata": {},
   "outputs": [
    {
     "data": {
      "image/png": "[encoded data removed]",
      "text/plain": [
       "<Figure size 640x480 with 1 Axes>"
      ]
     },
     "metadata": {},
     "output_type": "display_data"
    }
   ],
   "source": [
    "# MAE assuming optimal conditions (every request takes 15 minutes and all SLs take new requests immediately after finishing their current request)\n",
    "mae_naive = [naive_mean_error(split) for split in [TRAIN, CV, TEST]]\n",
    "\n",
    "# MAE taken from the model's predictions\n",
    "mae_prediction = [predicted_mean_error(split, w, b) for split in [TRAIN, CV, TEST]]\n",
    "\n",
    "# Plot bars for each set\n",
    "plot_mean_errors(mae_naive, mae_prediction, labels=['TRAIN', 'CV', 'TEST'])"
   ]
  },
  {
   "cell_type": "code",
   "execution_count": null,
   "id": "8b53ca86-7a57-4d78-ab5d-d1382437a11c",
   "metadata": {},
   "outputs": [],
   "source": []
  }
 ],
 "metadata": {
  "kernelspec": {
   "display_name": "Python (cs129)",
   "language": "python",
   "name": "cs129"
  },
  "language_info": {
   "codemirror_mode": {
    "name": "ipython",
    "version": 3
   },
   "file_extension": ".py",
   "mimetype": "text/x-python",
   "name": "python",
   "nbconvert_exporter": "python",
   "pygments_lexer": "ipython3",
   "version": "3.11.5"
  }
 },
 "nbformat": 4,
 "nbformat_minor": 5
}
