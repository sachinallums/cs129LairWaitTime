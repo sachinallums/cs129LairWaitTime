{
 "cells": [
  {
   "cell_type": "markdown",
   "id": "aa5cb440",
   "metadata": {},
   "source": [
    "# Predicting Student Wait Time at LAIR for Stanford’s Introductory Computer Science Courses\n",
    "\n",
    "## Project Group:\n",
    "Sachin Allums (sachino)\\\n",
    "Justin Blumencranz (jmb25)\\\n",
    "Andrew Hong (amhong)\\\n",
    "Mahathi Mangipudi (mahathim)\n",
    "\n",
    "Stanford enrolls over 2500 students each year in its two introductory computer science courses: CS106A and CS106B. These students have the opportunity to make use of LaIR, a space where they can receive one-on-one help from a section leader with their code for a given assignment. Currently, section leaders of the course are recommended to spend 15 minutes on each help request to better manage the flow of assistance. The purpose of our project is to develop a model that can predict how long students have to wait to receive help based on the assignment they are completing, the time they go to LaIR, and the number of days they go before the assignment deadline, among other features. \n",
    "\n",
    "## Model Selection\n",
    "\n",
    "We have chosen to implement a linear regression model, which will take in a variety of features describing the context of a single LaIR request and output an estimated wait time for the student to recieve help."
   ]
  },
  {
   "cell_type": "markdown",
   "id": "315e3324",
   "metadata": {},
   "source": [
    "***"
   ]
  },
  {
   "cell_type": "markdown",
   "id": "b665b5fc",
   "metadata": {
    "jp-MarkdownHeadingCollapsed": true
   },
   "source": [
    "# Import Packages\n",
    "Here we import all of the libraries/packages we will need to train and analyze our model"
   ]
  },
  {
   "cell_type": "code",
   "execution_count": 1,
   "id": "784f4bf6",
   "metadata": {},
   "outputs": [],
   "source": [
    "# import tensorflow as tf\n",
    "# from tensorflow import keras\n",
    "# from keras.models import Sequential\n",
    "# from keras.layers import Dense\n",
    "# from tensorflow.keras import regularizers\n",
    "# from tensorflow.keras.layers import LayerNormalization\n",
    "import matplotlib.pyplot as plt\n",
    "import numpy as np\n",
    "import pandas as pd\n",
    "import copy, math\n",
    "from sklearn import preprocessing\n",
    "from sklearn.model_selection import train_test_split\n",
    "from matplotlib.ticker import MaxNLocator\n",
    "\n",
    "\n",
    "from sklearn.ensemble import RandomForestRegressor\n",
    "from sklearn.metrics import mean_absolute_error\n",
    "\n",
    "# Make NumPy printouts easier to read.\n",
    "np.set_printoptions(precision=3, suppress=True)"
   ]
  },
  {
   "cell_type": "markdown",
   "id": "05f3a860",
   "metadata": {
    "jp-MarkdownHeadingCollapsed": true
   },
   "source": [
    "# Pre-Training Steps"
   ]
  },
  {
   "cell_type": "markdown",
   "id": "6fbf9cf7",
   "metadata": {},
   "source": [
    "Below are the neccesary functions to load in the data from our dataset"
   ]
  },
  {
   "cell_type": "code",
   "execution_count": 2,
   "id": "e5218126-ceff-43de-bc35-133beb17be49",
   "metadata": {},
   "outputs": [],
   "source": [
    "'''\n",
    "A class for storing subsets of the entire dataset as a pandas DataFrame\n",
    "'''\n",
    "class Dataset:\n",
    "    def __init__(self, dataframe, label_column):\n",
    "        self.dataframe = dataframe\n",
    "        self.label_column = label_column\n",
    "        self.features = dataframe.drop(label_column, axis=1)\n",
    "        self.labels = dataframe[[label_column]]\n",
    "        \n",
    "    def to_numpy(self):\n",
    "        X = self.features.to_numpy()\n",
    "        y = self.labels.to_numpy().ravel()\n",
    "        return X, y\n",
    "    \n",
    "    def features_to_numpy(self):\n",
    "        return self.features.to_numpy()\n",
    "    \n",
    "    def labels_to_numpy(self):\n",
    "        return self.labels.to_numpy().ravel()\n",
    "    \n",
    "    def get_feature_names(self):\n",
    "        return self.features.columns.tolist()\n",
    "    \n",
    "    def get_label_name(self):\n",
    "        return self.label_column\n",
    "    \n",
    "    def __len__(self):\n",
    "        return len(self.dataframe)\n",
    "    \n",
    "    def display_head(self, n=5):\n",
    "        return (self.dataframe.head(n)\n",
    "                .style\n",
    "                .format(\"{:.2f}\")\n",
    "                .set_table_styles([{'selector': 'tr:hover',\n",
    "                                    'props': [('background-color', '#ffff99')]}]))\n",
    "    \n",
    "    def column_to_numpy(self, column_name):\n",
    "        \"\"\"Retrieve a specific column by name as a NumPy array.\"\"\"\n",
    "        if column_name in self.dataframe.columns:\n",
    "            return self.dataframe[column_name].to_numpy()\n",
    "        else:\n",
    "            raise ValueError(f\"Column {column_name} does not exist in the dataset.\")\n",
    "\n",
    "    def get_column_by_name(self, column_name):\n",
    "            \"\"\"\n",
    "            Retrieve a specific column by name. This method returns the column\n",
    "            as a pandas Series. If the column is the label, it returns the label\n",
    "            column; otherwise, it searches among the features.\n",
    "            \"\"\"\n",
    "            if column_name == self.label_column:\n",
    "                return self.labels\n",
    "            elif column_name in self.features.columns:\n",
    "                return self.features[column_name]\n",
    "            else:\n",
    "                raise ValueError(f\"Column '{column_name}' not found in the dataset.\")\n"
   ]
  },
  {
   "cell_type": "code",
   "execution_count": 3,
   "id": "42dd574e",
   "metadata": {},
   "outputs": [],
   "source": [
    "def split_dataset(filepath, included_columns, label_column):\n",
    "    # Load dataset from filepath\n",
    "    df = pd.read_csv(filepath)\n",
    "\n",
    "    # Convert all cells to floats\n",
    "    for column in df.columns:\n",
    "        df[column] = pd.to_numeric(df[column], errors='coerce')\n",
    "\n",
    "    # Include only the columns specified\n",
    "    df = df[included_columns]\n",
    "    \n",
    "    # Split the data\n",
    "    train, test = train_test_split(df, test_size=1-TRAIN_SIZE)\n",
    "    test, cv = train_test_split(test, test_size=TEST_SIZE/(1-TRAIN_SIZE))\n",
    "\n",
    "    # Create Dataset instances\n",
    "    TRAIN = Dataset(train, label_column)\n",
    "    CV = Dataset(cv, label_column)\n",
    "    TEST = Dataset(test, label_column)\n",
    "    \n",
    "    # Print Split Sizes\n",
    "    print(f\"Total number of examples: {len(df)}\")\n",
    "    print(f\"Sizes of TRAIN, CV, TEST: [{len(TRAIN)},{len(CV)},{len(TEST)}]\")\n",
    "\n",
    "    return TRAIN, CV, TEST\n"
   ]
  },
  {
   "cell_type": "markdown",
   "id": "9e0a6e71-6cf0-4003-a369-afdf43647a31",
   "metadata": {
    "jp-MarkdownHeadingCollapsed": true
   },
   "source": [
    "# Training Utility Functions: Linear Regression\n",
    "Below are the functions used to train the model using gradient decent with MSE cost."
   ]
  },
  {
   "cell_type": "code",
   "execution_count": 4,
   "id": "d5a88f93-17b5-4529-bfbb-cc21edd45daf",
   "metadata": {},
   "outputs": [],
   "source": [
    "def compute_cost(X, y, w, b, lambda_=0): \n",
    "    \"\"\"\n",
    "    compute cost\n",
    "    Args:\n",
    "      X (ndarray (m,n)): Data, m examples with n features\n",
    "      y (ndarray (m,)) : target values\n",
    "      w (ndarray (n,)) : model parameters  \n",
    "      b (scalar)       : model parameter\n",
    "      \n",
    "    Returns:\n",
    "      cost (scalar): cost\n",
    "    \"\"\"\n",
    "    m = X.shape[0]\n",
    "    f_wb = (X @ w) + b\n",
    "    error = (f_wb - y)\n",
    "    regularization = (lambda_ / m) * (w @ w)\n",
    "    return ((error @ error) / (2 * m)) + regularization"
   ]
  },
  {
   "cell_type": "code",
   "execution_count": 5,
   "id": "5212bf04-8bd5-48c3-b807-c63e2d554979",
   "metadata": {},
   "outputs": [],
   "source": [
    "def compute_gradient(X, y, w, b, lambda_=0): \n",
    "    \"\"\"\n",
    "    Computes the gradient for linear regression \n",
    "    Args:\n",
    "      X (ndarray (m,n)): Data, m examples with n features\n",
    "      y (ndarray (m,)) : target values\n",
    "      w (ndarray (n,)) : model parameters  \n",
    "      b (scalar)       : model parameter\n",
    "      \n",
    "    Returns:\n",
    "      dj_dw (ndarray (n,)): The gradient of the cost w.r.t. the parameters w. \n",
    "      dj_db (scalar):       The gradient of the cost w.r.t. the parameter b. \n",
    "    \"\"\"\n",
    "    m = X.shape[0]\n",
    "    error = (X @ w) + b - y\n",
    "    dj_dw = ((X.T @ error) + (lambda_ * w)) / m\n",
    "    dj_db = np.sum(error) / m\n",
    "    return dj_db, dj_dw "
   ]
  },
  {
   "cell_type": "code",
   "execution_count": 6,
   "id": "b9efd65a-d686-4e7a-b88a-5c95af7a6d48",
   "metadata": {},
   "outputs": [],
   "source": [
    "def gradient_descent(X, y, X_cv, y_cv, w_in, b_in, cost_function, gradient_function, alpha, num_iters, lambda_, silent=False): \n",
    "    \"\"\"\n",
    "    Performs batch gradient descent to learn w and b. Updates w and b by taking \n",
    "    num_iters gradient steps with learning rate alpha\n",
    "    \n",
    "    Args:\n",
    "      X (ndarray (m,n))   : Data, m examples with n features\n",
    "      y (ndarray (m,))    : target values\n",
    "      X_cv                : Data, m examples with n features (from CV used to compute J_cv for learning curves)\n",
    "      y_cv                : target values                    (from CV used to compute J_cv for learning curves)\n",
    "      w_in (ndarray (n,)) : initial model parameters  \n",
    "      b_in (scalar)       : initial model parameter\n",
    "      cost_function       : function to compute cost\n",
    "      gradient_function   : function to compute the gradient\n",
    "      alpha (float)       : Learning rate\n",
    "      num_iters (int)     : number of iterations to run gradient descent\n",
    "      \n",
    "    Returns:\n",
    "      w (ndarray (n,)) : Updated values of parameters \n",
    "      b (scalar)       : Updated value of parameter \n",
    "      \"\"\"\n",
    "    \n",
    "    # An array to store cost J and w's at each iteration primarily for graphing later\n",
    "    J_train_history = []\n",
    "    J_cv_history = []\n",
    "    w = copy.deepcopy(w_in)  #avoid modifying global w within function\n",
    "    b = b_in\n",
    "    \n",
    "    for i in range(num_iters):\n",
    "\n",
    "        # Calculate the gradient and update the parameters\n",
    "        dj_db,dj_dw = gradient_function(X, y, w, b)   ##None\n",
    "\n",
    "        # Update Parameters using w, b, alpha and gradient\n",
    "        w = w - alpha * dj_dw               ##None\n",
    "        b = b - alpha * dj_db               ##None\n",
    "      \n",
    "        # Save cost J at each iteration\n",
    "        if i<100000:      # prevent resource exhaustion \n",
    "            J_train_history.append( cost_function(X, y, w, b, lambda_=0)) # Don't Regularize When Evaluating\n",
    "            J_cv_history.append( cost_function(X_cv, y_cv, w, b, lambda_=0))\n",
    "\n",
    "        # Print cost every at intervals 10 times or as many iterations if < 10\n",
    "        if i% math.ceil(num_iters / 10) == 0:\n",
    "            if not silent: print(f\"Iteration {i:4d}: Cost {J_train_history[-1]:8.2f}   \")\n",
    "        \n",
    "    return w, b, J_train_history, J_cv_history #return final w,b and J history for graphing"
   ]
  },
  {
   "cell_type": "code",
   "execution_count": 7,
   "id": "6dca10b7-740b-41ad-bcdf-3cb4c687c124",
   "metadata": {},
   "outputs": [],
   "source": [
    "def predict(x, w, b): \n",
    "    \"\"\"\n",
    "    single predict using linear regression\n",
    "    Args:\n",
    "      x (ndarray): Shape (n,) example with multiple features\n",
    "      w (ndarray): Shape (n,) model parameters   \n",
    "      b (scalar):             model parameter \n",
    "      \n",
    "    Returns:\n",
    "      p (scalar):  prediction\n",
    "    \"\"\"\n",
    "    return (x @ w) + b      "
   ]
  },
  {
   "cell_type": "code",
   "execution_count": 8,
   "id": "b0a2def3-92d1-4faf-bb86-bad3cf0f3310",
   "metadata": {},
   "outputs": [],
   "source": [
    "def train_linear_regression(X, y, X_cv, y_cv, return_history=True, silent=False):\n",
    "    m, n = X.shape\n",
    "\n",
    "    # Step 1: Initialize Parameters\n",
    "    w = W_INIT(n)                          # Calls lambda W_INIT to populate w with n weights\n",
    "    b = B_INIT                             # Scalar quantity\n",
    "    iterations = ITERATIONS\n",
    "    alpha = LEARNING_RATE\n",
    "    lambda_ = LAMBDA\n",
    "\n",
    "    # Step 2: Show Cost Pre-Training\n",
    "    initial_cost = compute_cost(X, y, w, b)\n",
    "    if not silent: print(f\"Initial Cost: {initial_cost}\")\n",
    "\n",
    "\n",
    "#     # Step 3: Show Gradiant Pre-Training\n",
    "#     tmp_dj_db, tmp_dj_dw = compute_gradient_regularized(X, y, w, b)\n",
    "#     print(f'dj_db at initial w,b: {tmp_dj_db}')\n",
    "#     print(f'dj_dw at initial w,b: \\n {tmp_dj_dw}')\n",
    "\n",
    "    # Step 4: Run Gradient Decent\n",
    "    w_final, b_final, J_train_hist, J_cv_hist = gradient_descent(X, y, X_cv, y_cv, w, b,\n",
    "                                                    compute_cost, compute_gradient, \n",
    "                                                    alpha, iterations, lambda_, silent=silent)\n",
    "#    print(f\"w, b found by gradient descent:\\nw= {w_final}\\nb= {b_final:0.2f}\")\n",
    "\n",
    "    if not silent: print(\"Finished Running Gradient Descent\")\n",
    "\n",
    "    # Step 5: Print a few predictions\n",
    "    num_shown_predictions = 5\n",
    "    for i in range(num_shown_predictions):\n",
    "        if not silent: print(f\"prediction: {np.dot(X[i], w_final) + b_final:0.2f}, target value: {y[i]}\")\n",
    "    \n",
    "    # Step 6: Return trained weights and bias\n",
    "    if return_history: return w_final, b_final, J_train_hist, J_cv_hist\n",
    "    else: return w_final, b_final"
   ]
  },
  {
   "cell_type": "markdown",
   "id": "89c1c135",
   "metadata": {
    "jp-MarkdownHeadingCollapsed": true
   },
   "source": [
    "# Analysis Utility Functions\n",
    "Below are functions used to analyze the performance of the model on the split dataset"
   ]
  },
  {
   "cell_type": "code",
   "execution_count": 9,
   "id": "e34444e2-c65f-48c3-82af-7557d5ea02c1",
   "metadata": {},
   "outputs": [],
   "source": [
    "def compute_baseline_estimates(dataset):\n",
    "    # Get columns for numInQueue and TAsPerSession to do naive estimation\n",
    "    numInQueue = dataset.column_to_numpy('numInQueue')\n",
    "    TAsPerSession = dataset.column_to_numpy('TAsPerSession')\n",
    "\n",
    "    # Replace zeros with average number of SLs which is 17\n",
    "    # TAsPerSession = np.nan_to_num(TAsPerSession, nan=17)\n",
    "\n",
    "    # print(f\"numInQueue looks like:\\n{numInQueue}\\n\")\n",
    "    # print(f\"TAsPerSession looks like:\\n{TAsPerSession}\\n\")\n",
    "    \n",
    "    # Expected minutes until active TAs finish their current request (assuming uniform distribution from 0-15 minutes)\n",
    "    expected_time_into_session = 7.5\n",
    "\n",
    "    # Assuming the total remaining current session time is the same for each queue entry, as it's a fixed value based on our assumptions\n",
    "    total_remaining_current_session_time = expected_time_into_session\n",
    "\n",
    "    # Total rounds of Section Leader help needed to help everyone in the queue, calculated for the entire array at once\n",
    "    total_rounds = np.ceil(numInQueue / TAsPerSession)\n",
    "\n",
    "    # Time for the queue is rounds times the average session length (making the naive assumption that each round takes 15 minutes)\n",
    "    total_time_for_queue = total_rounds * 15\n",
    "\n",
    "    # Estimated wait time is time to finish current sessions + time to get through the queue, for the entire array at once\n",
    "    estimated_wait_times = total_remaining_current_session_time + total_time_for_queue\n",
    "\n",
    "    return estimated_wait_times"
   ]
  },
  {
   "cell_type": "code",
   "execution_count": 10,
   "id": "8a3ba7a9-b627-4544-afd5-e5a0a0d8788d",
   "metadata": {},
   "outputs": [],
   "source": [
    "def baseline_cost(y_baseline, y, lambda_=0):\n",
    "    \"\"\"\n",
    "    compute cost\n",
    "    Args:\n",
    "      y_baseline (ndarray (m,)) : baseline predictions\n",
    "      y (ndarray (m,))          : target values\n",
    "      lambda_ (scalar)          : regularization constant\n",
    "      \n",
    "    Returns:\n",
    "      cost (scalar): cost\n",
    "    \"\"\"\n",
    "    m = y_baseline.shape[0]\n",
    "    \n",
    "    error = (y_baseline - y)\n",
    "    regularization = (lambda_ / m) * (w @ w)\n",
    "    return (error @ error) / (2 * m) + regularization"
   ]
  },
  {
   "cell_type": "code",
   "execution_count": 11,
   "id": "af708f1e-34c5-4374-891a-9a974f0b73fc",
   "metadata": {},
   "outputs": [],
   "source": [
    "def predicted_mean_error(X, y, w, b):\n",
    "    \"\"\"\n",
    "    Computes the absolute errors between the predictions and the true labels for each example.\n",
    "\n",
    "    Parameters:\n",
    "    - dataset: Dataset storing inputs and labels for a given split of the full dataset\n",
    "    - w: Weight vector (n features by 1)\n",
    "    - b: Bias term (scalar)\n",
    "\n",
    "    Returns:\n",
    "    - errors: Absolute errors (m examples by 1)\n",
    "    \"\"\"\n",
    "    # X = np.nan_to_num(X)\n",
    "\n",
    "    predictions = predict(X, w, b)\n",
    "    errors = np.abs(predictions - y)\n",
    "    return np.mean(errors)"
   ]
  },
  {
   "cell_type": "code",
   "execution_count": 12,
   "id": "545741d4-c00d-428b-9e69-57848bdfa503",
   "metadata": {},
   "outputs": [],
   "source": [
    "def baseline_mean_error(dataset):\n",
    "    y = dataset.labels_to_numpy()\n",
    "    predictions = compute_baseline_estimates(dataset)\n",
    "    \n",
    "    errors = np.abs(predictions - y)\n",
    "    return np.mean(errors)"
   ]
  },
  {
   "cell_type": "code",
   "execution_count": 13,
   "id": "5889fc77-edd7-4ae9-938d-ef9d7968cb10",
   "metadata": {},
   "outputs": [],
   "source": [
    "def forest_mean_error(X, y, regressor):\n",
    "    predictions = regressor.predict(X)\n",
    "    mae = mean_absolute_error(y, predictions)\n",
    "    print(f\"Mean Absolute Error: {mae}\")\n",
    "    return mae"
   ]
  },
  {
   "cell_type": "markdown",
   "id": "4de5f48d-9e6c-403a-b494-3d02566f0821",
   "metadata": {
    "jp-MarkdownHeadingCollapsed": true
   },
   "source": [
    "# Second Bassline: Random Forest"
   ]
  },
  {
   "cell_type": "code",
   "execution_count": 14,
   "id": "e6cd9bb3-f133-4fcd-9959-e0fc4bddee4b",
   "metadata": {},
   "outputs": [],
   "source": [
    "def train_random_forest(X_train, y_train):\n",
    "    regressor = RandomForestRegressor(n_estimators=100, random_state=42)\n",
    "    regressor.fit(X_train, y_train)\n",
    "    print(\"Done!\")\n",
    "    return regressor"
   ]
  },
  {
   "cell_type": "markdown",
   "id": "156b1672-da81-4692-93a0-bc5af3ca4118",
   "metadata": {
    "jp-MarkdownHeadingCollapsed": true
   },
   "source": [
    "# Plotting Utility Functions"
   ]
  },
  {
   "cell_type": "code",
   "execution_count": 15,
   "id": "5b0a1807-a34b-451c-9d74-4dd43e2e234b",
   "metadata": {},
   "outputs": [],
   "source": [
    "def plot_learning_curves(J_train_history, J_cv_history, J_baseline, tail_fraction=0.2):\n",
    "    \"\"\"\n",
    "    Plot learning curves for training and cross-validation sets, along with a baseline cost.\n",
    "    \n",
    "    Parameters:\n",
    "    - J_train_history: List of training set costs.\n",
    "    - J_cv_history: List of cross-validation set costs.\n",
    "    - J_baseline: A single number representing a baseline cost to plot as a horizontal line.\n",
    "    - tail_fraction: The fraction of the data from the end to plot in a separate graph. Default is 0.2.\n",
    "    \"\"\"\n",
    "    iterations = range(1, len(J_train_history) + 1)\n",
    "    tail_size = int(len(J_train_history) * tail_fraction)\n",
    "    \n",
    "    # Main plot\n",
    "    plt.figure(figsize=(10, 6))\n",
    "    plt.plot(iterations, J_train_history, label='J_train', color='blue')\n",
    "    plt.plot(iterations, J_cv_history, label='J_cv', color='lime')\n",
    "    plt.axhline(y=J_baseline, color='red', linestyle='-', label='Baseline Cost')\n",
    "    plt.xlabel('Iterations')\n",
    "    plt.ylabel('Cost')\n",
    "    plt.legend()\n",
    "    plt.title('Learning Curves')\n",
    "    plt.show()\n",
    "    \n",
    "    # Tail plot\n",
    "    if tail_size > 0:\n",
    "        plt.figure(figsize=(10, 6))\n",
    "        plt.plot(iterations[-tail_size:], J_train_history[-tail_size:], label='J_train Tail', color='blue')\n",
    "        plt.plot(iterations[-tail_size:], J_cv_history[-tail_size:], label='J_cv Tail', color='lime')\n",
    "        plt.axhline(y=J_baseline, color='red', linestyle='-', label='Baseline Cost')\n",
    "        plt.xlabel('Iterations (Tail)')\n",
    "        plt.ylabel('Cost')\n",
    "        plt.legend()\n",
    "        plt.title('Learning Curves (Tail)')\n",
    "        plt.show()\n"
   ]
  },
  {
   "cell_type": "code",
   "execution_count": 16,
   "id": "82b21615-a5fc-4f89-ad8d-6ed36ad866ab",
   "metadata": {},
   "outputs": [],
   "source": [
    "def plot_mean_errors(naive_values, predicted_values, forest_values, labels=['TRAIN', 'CV', 'TEST']):\n",
    "    \"\"\"\n",
    "    Plot NAIVE, PREDICTED, and FOREST mean error values for TRAIN, CV, and TEST datasets as a bar graph.\n",
    "\n",
    "    Parameters:\n",
    "    - naive_values: List of NAIVE mean error values for each dataset.\n",
    "    - predicted_values: List of PREDICTED mean error values for each dataset.\n",
    "    - forest_values: List of FOREST mean error values for each dataset.\n",
    "    - labels: Labels for the datasets (default is ['TRAIN', 'CV', 'TEST']).\n",
    "    \"\"\"\n",
    "    \n",
    "    # Number of dataset categories\n",
    "    n = len(labels)\n",
    "\n",
    "    # X positions for the groups\n",
    "    index = np.arange(n)\n",
    "\n",
    "    # Bar width (adjusted to fit the third bar)\n",
    "    bar_width = 0.2\n",
    "\n",
    "    # Opacity for the bars\n",
    "    opacity = 0.8\n",
    "\n",
    "    # Plotting Naive values\n",
    "    plt.bar(index, naive_values, bar_width, alpha=opacity, color='#4169e1', label='Naive')\n",
    "\n",
    "    # Plotting Prediction values\n",
    "    plt.bar(index + bar_width, predicted_values, bar_width, alpha=opacity, color='#dc143c', label='Prediction')\n",
    "\n",
    "    # Plotting Forest values\n",
    "    plt.bar(index + 2*bar_width, forest_values, bar_width, alpha=opacity, color='#2e8b57', label='Forest')\n",
    "\n",
    "    # Add title and axis labels\n",
    "    plt.title('Comparison of Baseline, Predicted, and Forest Mean Errors')\n",
    "    plt.xlabel('Dataset')\n",
    "    plt.ylabel('MAE')\n",
    "    plt.xticks(index + bar_width, labels)  # Adjusting positioning of dataset labels for 3 bars\n",
    "\n",
    "    # Adding a legend\n",
    "    plt.legend()\n",
    "\n",
    "    # Optional: Add a grid\n",
    "    plt.grid(True, linestyle='--')\n",
    "\n",
    "    # Show plot\n",
    "    plt.tight_layout()\n",
    "    plt.savefig('mean-errors.png', dpi=300)\n",
    "    plt.show()"
   ]
  },
  {
   "cell_type": "code",
   "execution_count": 17,
   "id": "a112dc0b-8eeb-4ec6-952b-79c9ba0fc8f3",
   "metadata": {},
   "outputs": [],
   "source": [
    "def histogram(data, title=\"Title\", x_label=\"X Label\", y_label=\"Y Label\"):\n",
    "    plt.figure(figsize=(10, 6))  # Optional: specify the figure size\n",
    "    plt.hist(data, bins=30, alpha=0.75, color='blue', edgecolor='black')  # Plot histogram\n",
    "    \n",
    "    plt.title(title)  # Title of the histogram\n",
    "    plt.xlabel(x_label)  # X-axis label\n",
    "    plt.ylabel(y_label)  # Y-axis label\n",
    "    \n",
    "    plt.grid(False)  # Show grid\n",
    "    plt.show()  # Display the histogram"
   ]
  },
  {
   "cell_type": "markdown",
   "id": "755c2b99",
   "metadata": {},
   "source": [
    "# Training\n",
    "Here we will load the dataset and train the model by calling our utility functions"
   ]
  },
  {
   "cell_type": "code",
   "execution_count": 18,
   "id": "a4fa34b0-6523-4a2a-8999-aad24c1b657a",
   "metadata": {},
   "outputs": [],
   "source": [
    "### MODEL CONTROL PANEL ###\n",
    "\n",
    "# Filepath to Dataset\n",
    "FILEPATH = \"FINAL.csv\"\n",
    "\n",
    "# Define split sizes\n",
    "TRAIN_SIZE = 0.8\n",
    "CV_SIZE = 0.1\n",
    "TEST_SIZE = 0.1\n",
    "\n",
    "# Model hyperparameters\n",
    "LEARNING_RATE = 0.0041\n",
    "ITERATIONS = 5000\n",
    "LAMBDA = 4                                                       # 0 For no regularization\n",
    "B_INIT = 0\n",
    "W_INIT = lambda n_features: np.random.uniform(-1, 1, n_features)\n",
    "\n",
    "# Which Columns are Features\n",
    "INCLUDED_COLUMNS = [\n",
    "  \"waitTime\",\n",
    "  \"numInQueue\",\n",
    "  \"sessionTime\",\n",
    "  \"hoursToDeadline\",\n",
    "  \"signUpTimeClean\",\n",
    "  \"bitAndKarel\",\n",
    "  \"imagesAndGraphics\",\n",
    "  \"mapsAndDictionaries\",\n",
    "  \"lambdas\",\n",
    "  \"fileReading\",\n",
    "  \"grids\",\n",
    "  \"strings\",\n",
    "  \"userInteraction\",\n",
    "  \"queuesAndStacks\",\n",
    "  \"recursion\",\n",
    "  \"structs\",\n",
    "  \"objectOrientedProgramming\",\n",
    "  \"pointersAndMemory\",\n",
    "  \"sorting\",\n",
    "  \"hashTables\",\n",
    "  \"CS106ABinary\",\n",
    "  \"TAsPerSession\"\n",
    "]\n",
    "# Which Column is the label\n",
    "Y_LABEL = \"waitTime\"\n",
    "\n",
    "\n",
    "### Don't Touch Anything Below This Line ##################################\n",
    "assert TRAIN_SIZE + CV_SIZE + TEST_SIZE == 1 # Ensure splits add up to 100%\n",
    "assert TRAIN_SIZE > 0\n",
    "assert CV_SIZE > 0\n",
    "assert TEST_SIZE > 0\n",
    "assert len(INCLUDED_COLUMNS) > 0\n",
    "assert LEARNING_RATE > 0"
   ]
  },
  {
   "cell_type": "code",
   "execution_count": 19,
   "id": "b248599e",
   "metadata": {},
   "outputs": [
    {
     "name": "stdout",
     "output_type": "stream",
     "text": [
      "Total number of examples: 19031\n",
      "Sizes of TRAIN, CV, TEST: [15224,1904,1903]\n"
     ]
    }
   ],
   "source": [
    "# Step 1: Load and split dataset\n",
    "TRAIN, CV, TEST = split_dataset(FILEPATH, INCLUDED_COLUMNS, Y_LABEL)"
   ]
  },
  {
   "cell_type": "code",
   "execution_count": 30,
   "id": "dc3bf0e4-4204-4b52-bbb4-2eaf8bc9d01b",
   "metadata": {},
   "outputs": [
    {
     "data": {
      "text/html": [
       "<style type=\"text/css\">\n",
       "#T_01322 tr:hover {\n",
       "  background-color: #ffff99;\n",
       "}\n",
       "</style>\n",
       "<table id=\"T_01322\">\n",
       "  <thead>\n",
       "    <tr>\n",
       "      <th class=\"blank level0\" >&nbsp;</th>\n",
       "      <th id=\"T_01322_level0_col0\" class=\"col_heading level0 col0\" >waitTime</th>\n",
       "      <th id=\"T_01322_level0_col1\" class=\"col_heading level0 col1\" >numInQueue</th>\n",
       "      <th id=\"T_01322_level0_col2\" class=\"col_heading level0 col2\" >sessionTime</th>\n",
       "      <th id=\"T_01322_level0_col3\" class=\"col_heading level0 col3\" >hoursToDeadline</th>\n",
       "      <th id=\"T_01322_level0_col4\" class=\"col_heading level0 col4\" >signUpTimeClean</th>\n",
       "      <th id=\"T_01322_level0_col5\" class=\"col_heading level0 col5\" >bitAndKarel</th>\n",
       "      <th id=\"T_01322_level0_col6\" class=\"col_heading level0 col6\" >imagesAndGraphics</th>\n",
       "      <th id=\"T_01322_level0_col7\" class=\"col_heading level0 col7\" >mapsAndDictionaries</th>\n",
       "      <th id=\"T_01322_level0_col8\" class=\"col_heading level0 col8\" >lambdas</th>\n",
       "      <th id=\"T_01322_level0_col9\" class=\"col_heading level0 col9\" >fileReading</th>\n",
       "      <th id=\"T_01322_level0_col10\" class=\"col_heading level0 col10\" >grids</th>\n",
       "      <th id=\"T_01322_level0_col11\" class=\"col_heading level0 col11\" >strings</th>\n",
       "      <th id=\"T_01322_level0_col12\" class=\"col_heading level0 col12\" >userInteraction</th>\n",
       "      <th id=\"T_01322_level0_col13\" class=\"col_heading level0 col13\" >queuesAndStacks</th>\n",
       "      <th id=\"T_01322_level0_col14\" class=\"col_heading level0 col14\" >recursion</th>\n",
       "      <th id=\"T_01322_level0_col15\" class=\"col_heading level0 col15\" >structs</th>\n",
       "      <th id=\"T_01322_level0_col16\" class=\"col_heading level0 col16\" >objectOrientedProgramming</th>\n",
       "      <th id=\"T_01322_level0_col17\" class=\"col_heading level0 col17\" >pointersAndMemory</th>\n",
       "      <th id=\"T_01322_level0_col18\" class=\"col_heading level0 col18\" >sorting</th>\n",
       "      <th id=\"T_01322_level0_col19\" class=\"col_heading level0 col19\" >hashTables</th>\n",
       "      <th id=\"T_01322_level0_col20\" class=\"col_heading level0 col20\" >CS106ABinary</th>\n",
       "      <th id=\"T_01322_level0_col21\" class=\"col_heading level0 col21\" >TAsPerSession</th>\n",
       "    </tr>\n",
       "  </thead>\n",
       "  <tbody>\n",
       "    <tr>\n",
       "      <th id=\"T_01322_level0_row0\" class=\"row_heading level0 row0\" >11582</th>\n",
       "      <td id=\"T_01322_row0_col0\" class=\"data row0 col0\" >7.00</td>\n",
       "      <td id=\"T_01322_row0_col1\" class=\"data row0 col1\" >29.00</td>\n",
       "      <td id=\"T_01322_row0_col2\" class=\"data row0 col2\" >0.01</td>\n",
       "      <td id=\"T_01322_row0_col3\" class=\"data row0 col3\" >29.03</td>\n",
       "      <td id=\"T_01322_row0_col4\" class=\"data row0 col4\" >33333.00</td>\n",
       "      <td id=\"T_01322_row0_col5\" class=\"data row0 col5\" >0.00</td>\n",
       "      <td id=\"T_01322_row0_col6\" class=\"data row0 col6\" >0.00</td>\n",
       "      <td id=\"T_01322_row0_col7\" class=\"data row0 col7\" >0.00</td>\n",
       "      <td id=\"T_01322_row0_col8\" class=\"data row0 col8\" >0.00</td>\n",
       "      <td id=\"T_01322_row0_col9\" class=\"data row0 col9\" >0.00</td>\n",
       "      <td id=\"T_01322_row0_col10\" class=\"data row0 col10\" >0.00</td>\n",
       "      <td id=\"T_01322_row0_col11\" class=\"data row0 col11\" >0.00</td>\n",
       "      <td id=\"T_01322_row0_col12\" class=\"data row0 col12\" >0.00</td>\n",
       "      <td id=\"T_01322_row0_col13\" class=\"data row0 col13\" >1.00</td>\n",
       "      <td id=\"T_01322_row0_col14\" class=\"data row0 col14\" >0.00</td>\n",
       "      <td id=\"T_01322_row0_col15\" class=\"data row0 col15\" >1.00</td>\n",
       "      <td id=\"T_01322_row0_col16\" class=\"data row0 col16\" >1.00</td>\n",
       "      <td id=\"T_01322_row0_col17\" class=\"data row0 col17\" >1.00</td>\n",
       "      <td id=\"T_01322_row0_col18\" class=\"data row0 col18\" >0.00</td>\n",
       "      <td id=\"T_01322_row0_col19\" class=\"data row0 col19\" >0.00</td>\n",
       "      <td id=\"T_01322_row0_col20\" class=\"data row0 col20\" >0.00</td>\n",
       "      <td id=\"T_01322_row0_col21\" class=\"data row0 col21\" >48.00</td>\n",
       "    </tr>\n",
       "    <tr>\n",
       "      <th id=\"T_01322_level0_row1\" class=\"row_heading level0 row1\" >3120</th>\n",
       "      <td id=\"T_01322_row1_col0\" class=\"data row1 col0\" >57.00</td>\n",
       "      <td id=\"T_01322_row1_col1\" class=\"data row1 col1\" >17.00</td>\n",
       "      <td id=\"T_01322_row1_col2\" class=\"data row1 col2\" >0.02</td>\n",
       "      <td id=\"T_01322_row1_col3\" class=\"data row1 col3\" >100.28</td>\n",
       "      <td id=\"T_01322_row1_col4\" class=\"data row1 col4\" >33333.00</td>\n",
       "      <td id=\"T_01322_row1_col5\" class=\"data row1 col5\" >0.00</td>\n",
       "      <td id=\"T_01322_row1_col6\" class=\"data row1 col6\" >0.00</td>\n",
       "      <td id=\"T_01322_row1_col7\" class=\"data row1 col7\" >0.00</td>\n",
       "      <td id=\"T_01322_row1_col8\" class=\"data row1 col8\" >0.00</td>\n",
       "      <td id=\"T_01322_row1_col9\" class=\"data row1 col9\" >0.00</td>\n",
       "      <td id=\"T_01322_row1_col10\" class=\"data row1 col10\" >0.00</td>\n",
       "      <td id=\"T_01322_row1_col11\" class=\"data row1 col11\" >0.00</td>\n",
       "      <td id=\"T_01322_row1_col12\" class=\"data row1 col12\" >0.00</td>\n",
       "      <td id=\"T_01322_row1_col13\" class=\"data row1 col13\" >0.00</td>\n",
       "      <td id=\"T_01322_row1_col14\" class=\"data row1 col14\" >0.00</td>\n",
       "      <td id=\"T_01322_row1_col15\" class=\"data row1 col15\" >1.00</td>\n",
       "      <td id=\"T_01322_row1_col16\" class=\"data row1 col16\" >0.00</td>\n",
       "      <td id=\"T_01322_row1_col17\" class=\"data row1 col17\" >1.00</td>\n",
       "      <td id=\"T_01322_row1_col18\" class=\"data row1 col18\" >1.00</td>\n",
       "      <td id=\"T_01322_row1_col19\" class=\"data row1 col19\" >0.00</td>\n",
       "      <td id=\"T_01322_row1_col20\" class=\"data row1 col20\" >0.00</td>\n",
       "      <td id=\"T_01322_row1_col21\" class=\"data row1 col21\" >17.00</td>\n",
       "    </tr>\n",
       "    <tr>\n",
       "      <th id=\"T_01322_level0_row2\" class=\"row_heading level0 row2\" >5326</th>\n",
       "      <td id=\"T_01322_row2_col0\" class=\"data row2 col0\" >8.00</td>\n",
       "      <td id=\"T_01322_row2_col1\" class=\"data row2 col1\" >3.00</td>\n",
       "      <td id=\"T_01322_row2_col2\" class=\"data row2 col2\" >0.00</td>\n",
       "      <td id=\"T_01322_row2_col3\" class=\"data row2 col3\" >-21.45</td>\n",
       "      <td id=\"T_01322_row2_col4\" class=\"data row2 col4\" >77778.00</td>\n",
       "      <td id=\"T_01322_row2_col5\" class=\"data row2 col5\" >0.00</td>\n",
       "      <td id=\"T_01322_row2_col6\" class=\"data row2 col6\" >1.00</td>\n",
       "      <td id=\"T_01322_row2_col7\" class=\"data row2 col7\" >0.00</td>\n",
       "      <td id=\"T_01322_row2_col8\" class=\"data row2 col8\" >0.00</td>\n",
       "      <td id=\"T_01322_row2_col9\" class=\"data row2 col9\" >0.00</td>\n",
       "      <td id=\"T_01322_row2_col10\" class=\"data row2 col10\" >1.00</td>\n",
       "      <td id=\"T_01322_row2_col11\" class=\"data row2 col11\" >0.00</td>\n",
       "      <td id=\"T_01322_row2_col12\" class=\"data row2 col12\" >0.00</td>\n",
       "      <td id=\"T_01322_row2_col13\" class=\"data row2 col13\" >0.00</td>\n",
       "      <td id=\"T_01322_row2_col14\" class=\"data row2 col14\" >0.00</td>\n",
       "      <td id=\"T_01322_row2_col15\" class=\"data row2 col15\" >0.00</td>\n",
       "      <td id=\"T_01322_row2_col16\" class=\"data row2 col16\" >0.00</td>\n",
       "      <td id=\"T_01322_row2_col17\" class=\"data row2 col17\" >0.00</td>\n",
       "      <td id=\"T_01322_row2_col18\" class=\"data row2 col18\" >0.00</td>\n",
       "      <td id=\"T_01322_row2_col19\" class=\"data row2 col19\" >0.00</td>\n",
       "      <td id=\"T_01322_row2_col20\" class=\"data row2 col20\" >1.00</td>\n",
       "      <td id=\"T_01322_row2_col21\" class=\"data row2 col21\" >13.00</td>\n",
       "    </tr>\n",
       "    <tr>\n",
       "      <th id=\"T_01322_level0_row3\" class=\"row_heading level0 row3\" >11903</th>\n",
       "      <td id=\"T_01322_row3_col0\" class=\"data row3 col0\" >36.00</td>\n",
       "      <td id=\"T_01322_row3_col1\" class=\"data row3 col1\" >16.00</td>\n",
       "      <td id=\"T_01322_row3_col2\" class=\"data row3 col2\" >0.00</td>\n",
       "      <td id=\"T_01322_row3_col3\" class=\"data row3 col3\" >16.18</td>\n",
       "      <td id=\"T_01322_row3_col4\" class=\"data row3 col4\" >77778.00</td>\n",
       "      <td id=\"T_01322_row3_col5\" class=\"data row3 col5\" >0.00</td>\n",
       "      <td id=\"T_01322_row3_col6\" class=\"data row3 col6\" >0.00</td>\n",
       "      <td id=\"T_01322_row3_col7\" class=\"data row3 col7\" >0.00</td>\n",
       "      <td id=\"T_01322_row3_col8\" class=\"data row3 col8\" >0.00</td>\n",
       "      <td id=\"T_01322_row3_col9\" class=\"data row3 col9\" >0.00</td>\n",
       "      <td id=\"T_01322_row3_col10\" class=\"data row3 col10\" >0.00</td>\n",
       "      <td id=\"T_01322_row3_col11\" class=\"data row3 col11\" >0.00</td>\n",
       "      <td id=\"T_01322_row3_col12\" class=\"data row3 col12\" >0.00</td>\n",
       "      <td id=\"T_01322_row3_col13\" class=\"data row3 col13\" >1.00</td>\n",
       "      <td id=\"T_01322_row3_col14\" class=\"data row3 col14\" >0.00</td>\n",
       "      <td id=\"T_01322_row3_col15\" class=\"data row3 col15\" >1.00</td>\n",
       "      <td id=\"T_01322_row3_col16\" class=\"data row3 col16\" >1.00</td>\n",
       "      <td id=\"T_01322_row3_col17\" class=\"data row3 col17\" >1.00</td>\n",
       "      <td id=\"T_01322_row3_col18\" class=\"data row3 col18\" >0.00</td>\n",
       "      <td id=\"T_01322_row3_col19\" class=\"data row3 col19\" >0.00</td>\n",
       "      <td id=\"T_01322_row3_col20\" class=\"data row3 col20\" >1.00</td>\n",
       "      <td id=\"T_01322_row3_col21\" class=\"data row3 col21\" >17.00</td>\n",
       "    </tr>\n",
       "    <tr>\n",
       "      <th id=\"T_01322_level0_row4\" class=\"row_heading level0 row4\" >4118</th>\n",
       "      <td id=\"T_01322_row4_col0\" class=\"data row4 col0\" >12.00</td>\n",
       "      <td id=\"T_01322_row4_col1\" class=\"data row4 col1\" >4.00</td>\n",
       "      <td id=\"T_01322_row4_col2\" class=\"data row4 col2\" >0.02</td>\n",
       "      <td id=\"T_01322_row4_col3\" class=\"data row4 col3\" >52.62</td>\n",
       "      <td id=\"T_01322_row4_col4\" class=\"data row4 col4\" >44444.00</td>\n",
       "      <td id=\"T_01322_row4_col5\" class=\"data row4 col5\" >0.00</td>\n",
       "      <td id=\"T_01322_row4_col6\" class=\"data row4 col6\" >0.00</td>\n",
       "      <td id=\"T_01322_row4_col7\" class=\"data row4 col7\" >1.00</td>\n",
       "      <td id=\"T_01322_row4_col8\" class=\"data row4 col8\" >0.00</td>\n",
       "      <td id=\"T_01322_row4_col9\" class=\"data row4 col9\" >0.00</td>\n",
       "      <td id=\"T_01322_row4_col10\" class=\"data row4 col10\" >0.00</td>\n",
       "      <td id=\"T_01322_row4_col11\" class=\"data row4 col11\" >0.00</td>\n",
       "      <td id=\"T_01322_row4_col12\" class=\"data row4 col12\" >0.00</td>\n",
       "      <td id=\"T_01322_row4_col13\" class=\"data row4 col13\" >1.00</td>\n",
       "      <td id=\"T_01322_row4_col14\" class=\"data row4 col14\" >1.00</td>\n",
       "      <td id=\"T_01322_row4_col15\" class=\"data row4 col15\" >1.00</td>\n",
       "      <td id=\"T_01322_row4_col16\" class=\"data row4 col16\" >0.00</td>\n",
       "      <td id=\"T_01322_row4_col17\" class=\"data row4 col17\" >0.00</td>\n",
       "      <td id=\"T_01322_row4_col18\" class=\"data row4 col18\" >0.00</td>\n",
       "      <td id=\"T_01322_row4_col19\" class=\"data row4 col19\" >0.00</td>\n",
       "      <td id=\"T_01322_row4_col20\" class=\"data row4 col20\" >0.00</td>\n",
       "      <td id=\"T_01322_row4_col21\" class=\"data row4 col21\" >19.00</td>\n",
       "    </tr>\n",
       "  </tbody>\n",
       "</table>\n"
      ],
      "text/plain": [
       "<pandas.io.formats.style.Styler at 0x17551be50>"
      ]
     },
     "execution_count": 30,
     "metadata": {},
     "output_type": "execute_result"
    }
   ],
   "source": [
    "# Step 2: Print out a few of the training examples\n",
    "TRAIN.display_head()"
   ]
  },
  {
   "cell_type": "code",
   "execution_count": 21,
   "id": "e4a815e4-0fd5-4113-8547-22f8973fa8c9",
   "metadata": {},
   "outputs": [
    {
     "data": {
      "image/png": "[encoded data removed]",
      "text/plain": [
       "<Figure size 1000x600 with 1 Axes>"
      ]
     },
     "metadata": {},
     "output_type": "display_data"
    }
   ],
   "source": [
    "# Step 3: Compute baseline estimate of wait time (before normalization occurs)\n",
    "y_baseline = compute_baseline_estimates(TRAIN)\n",
    "histogram(y_baseline, title=\"Bassline Estimated Wait Time\", x_label=\"Wait Time\", y_label=\"Frequency\")"
   ]
  },
  {
   "cell_type": "code",
   "execution_count": 22,
   "id": "f941a035",
   "metadata": {},
   "outputs": [],
   "source": [
    "# Pull out training and cv data\n",
    "X_train = TRAIN.features_to_numpy()\n",
    "y_train = TRAIN.labels_to_numpy()\n",
    "\n",
    "X_cv = CV.features_to_numpy()\n",
    "y_cv = CV.labels_to_numpy()\n",
    "\n",
    "# X_train = np.nan_to_num(X_train)\n",
    "# X_cv = np.nan_to_num(X_cv)\n",
    "\n",
    "# Fit StandardScaler to training data for normalization\n",
    "scaler = preprocessing.StandardScaler()\n",
    "scaler.fit(X_train)\n",
    "\n",
    "# Scale Features\n",
    "X_train_scaled = scaler.transform(X_train)\n",
    "X_cv_scaled = scaler.transform(X_cv)"
   ]
  },
  {
   "cell_type": "code",
   "execution_count": 23,
   "id": "66d84e1a-ee52-4b9d-8f45-225780a3c585",
   "metadata": {},
   "outputs": [
    {
     "name": "stdout",
     "output_type": "stream",
     "text": [
      "Initial Cost: 368.6575162469948\n",
      "Iteration    0: Cost   366.16   \n",
      "Iteration  500: Cost    93.64   \n",
      "Iteration 1000: Cost    88.78   \n",
      "Iteration 1500: Cost    88.46   \n",
      "Iteration 2000: Cost    88.33   \n",
      "Iteration 2500: Cost    88.26   \n",
      "Iteration 3000: Cost    88.21   \n",
      "Iteration 3500: Cost    88.18   \n",
      "Iteration 4000: Cost    88.17   \n",
      "Iteration 4500: Cost    88.16   \n",
      "Finished Running Gradient Descent\n",
      "prediction: 31.55, target value: 7\n",
      "prediction: 29.66, target value: 57\n",
      "prediction: 10.28, target value: 8\n",
      "prediction: 23.58, target value: 36\n",
      "prediction: 8.00, target value: 12\n"
     ]
    }
   ],
   "source": [
    "# Train Linear Regression Model\n",
    "w, b, J_train_hist, J_cv_hist = train_linear_regression(X_train_scaled, y_train, X_cv_scaled, y_cv, return_history=True)"
   ]
  },
  {
   "cell_type": "code",
   "execution_count": 24,
   "id": "59bac112-ffe3-4b56-b88d-06fb514efb45",
   "metadata": {},
   "outputs": [
    {
     "name": "stdout",
     "output_type": "stream",
     "text": [
      "Done!\n"
     ]
    }
   ],
   "source": [
    "# Train Random Forest\n",
    "random_forest_regressor = train_random_forest(X_train_scaled, y_train)"
   ]
  },
  {
   "cell_type": "markdown",
   "id": "f149b1a3-872b-423c-af95-8549b8e04b0d",
   "metadata": {
    "jp-MarkdownHeadingCollapsed": true
   },
   "source": [
    "# Fine Tuning"
   ]
  },
  {
   "cell_type": "code",
   "execution_count": 25,
   "id": "2255e000-faf0-4f29-aae5-fc30d95d7efb",
   "metadata": {},
   "outputs": [
    {
     "data": {
      "image/png": "[encoded data removed]",
      "text/plain": [
       "<Figure size 1000x600 with 1 Axes>"
      ]
     },
     "metadata": {},
     "output_type": "display_data"
    },
    {
     "data": {
      "image/png": "[encoded data removed]",
      "text/plain": [
       "<Figure size 1000x600 with 1 Axes>"
      ]
     },
     "metadata": {},
     "output_type": "display_data"
    }
   ],
   "source": [
    "# Plot Learning Curves for J_train and J_cv to diagnose bias and variance\n",
    "J_baseline = baseline_cost(y_baseline, y_train)\n",
    "plot_learning_curves(J_train_hist, J_cv_hist, J_baseline)"
   ]
  },
  {
   "cell_type": "code",
   "execution_count": 26,
   "id": "abe85877-b4f5-48e1-aabb-df3ee9fcc3ad",
   "metadata": {},
   "outputs": [],
   "source": [
    "# # Trying different lambda values, pick the one that minimizes J_cv\n",
    "# J_cv = []\n",
    "# lambda_old = LAMBDA\n",
    "# min_lambda = 0\n",
    "# max_lambda = 100\n",
    "# step_size = 1\n",
    "# for test_lambda in np.arange(min_lambda, max_lambda, step_size):\n",
    "#     print(f\"Testing lambda={test_lambda}\")\n",
    "#     LAMBDA = test_lambda\n",
    "#     w_trash, b_trash, J_train_hist, J_cv_hist = train_linear_regression(X_train_scaled, y_train, X_cv_scaled, y_cv, return_history=True, silent=True)\n",
    "#     J_cv.append(J_cv_hist[-1])\n",
    "\n",
    "# LAMBDA = lambda_old\n",
    "\n",
    "# plt.figure(figsize=(10, 6))  # Optional: Specifies the figure size\n",
    "# plt.plot(np.arange(min_lambda, max_lambda, step_size), J_cv, marker='o')  # Plot the points with markers\n",
    "\n",
    "# # Set x-axis major locator to integer values\n",
    "# ax = plt.gca()  # Get the current Axes instance\n",
    "# ax.xaxis.set_major_locator(MaxNLocator(integer=True))\n",
    "\n",
    "# plt.title('Lambda v. Final J_cv')  # Optional: Adds a title to the plot\n",
    "# plt.xlabel('Lambda')  # Optional: Adds a label to the X axis\n",
    "# plt.ylabel('J_cv')  # Optional: Adds a label to the Y axis\n",
    "# plt.grid(True)  # Optional: Shows a grid\n",
    "# plt.savefig('lambda-v-jcv.png', dpi=300)\n",
    "# plt.show()\n",
    "\n",
    "# print(f\"Minimum Value of Lambda: {np.arange(min_lambda, max_lambda, step_size)[np.argmin(J_cv)]}\")"
   ]
  },
  {
   "cell_type": "code",
   "execution_count": 27,
   "id": "1e2278d3-b379-4298-83ea-b9830a825000",
   "metadata": {},
   "outputs": [],
   "source": [
    "# # Trying different learning rates values, pick the one that minimizes J_cv\n",
    "# J_cv = []\n",
    "# alpha_old = LEARNING_RATE\n",
    "# min_alpha = 0.001\n",
    "# max_alpha = 0.1\n",
    "# step_size = 0.001\n",
    "# for test_alpha in np.arange(min_alpha, max_alpha, step_size):\n",
    "#     print(f\"Testing alpha={test_alpha}\")\n",
    "#     LEARNING_RATE = test_alpha\n",
    "#     w_trash, b_trash, J_train_hist, J_cv_hist = train_linear_regression(X_train_scaled, y_train, X_cv_scaled, y_cv, return_history=True, silent=True)\n",
    "#     J_cv.append(J_cv_hist[-1])\n",
    "\n",
    "# LEARNING_RATE = alpha_old\n",
    "\n",
    "# plt.figure(figsize=(10, 6))  # Optional: Specifies the figure size\n",
    "# plt.plot(np.arange(min_alpha, max_alpha, step_size), J_cv, marker='o')  # Plot the points with markers\n",
    "\n",
    "# plt.title('Alpha v. Final J_cv')  # Optional: Adds a title to the plot\n",
    "# plt.xlabel('Alpha')  # Optional: Adds a label to the X axis\n",
    "# plt.ylabel('J_cv')  # Optional: Adds a label to the Y axis\n",
    "# plt.grid(True)  # Optional: Shows a grid\n",
    "# plt.savefig('alpha-v-jcv.png', dpi=300)\n",
    "# plt.show()\n",
    "\n",
    "# print(f\"Minimum Value of Alpha: {np.arange(min_alpha, max_alpha, step_size)[np.argmin(J_cv)]}\")"
   ]
  },
  {
   "cell_type": "markdown",
   "id": "7d4affc6",
   "metadata": {
    "jp-MarkdownHeadingCollapsed": true
   },
   "source": [
    "# Analysis"
   ]
  },
  {
   "cell_type": "code",
   "execution_count": 28,
   "id": "2caca2bb-21fa-4b06-8e90-175a8fd1e81f",
   "metadata": {},
   "outputs": [
    {
     "name": "stdout",
     "output_type": "stream",
     "text": [
      "Mean Absolute Error: 2.044140132702222\n",
      "Mean Absolute Error: 4.965832589285714\n",
      "Mean Absolute Error: 4.7728833483472215\n"
     ]
    },
    {
     "data": {
      "image/png": "[encoded data removed]",
      "text/plain": [
       "<Figure size 640x480 with 1 Axes>"
      ]
     },
     "metadata": {},
     "output_type": "display_data"
    },
    {
     "name": "stdout",
     "output_type": "stream",
     "text": [
      "Improvement on Train from Bassline: 32.79%\n",
      "Improvement on CV from Bassline: 31.24%\n",
      "Improvement on Test  from Bassline: 33.15%\n"
     ]
    }
   ],
   "source": [
    "# MAE assuming optimal conditions (every request takes 15 minutes and all SLs take new requests immediately after finishing their current request)\n",
    "mae_naive = [baseline_mean_error(split) for split in [TRAIN, CV, TEST]]\n",
    "\n",
    "# MAE taken from the model's predictions\n",
    "mae_prediction = []\n",
    "\n",
    "# MAE taken from random forest predictions\n",
    "mae_forest = []\n",
    "\n",
    "for split in [TRAIN, CV, TEST]:\n",
    "    X = split.features_to_numpy()\n",
    "    X_scaled = scaler.transform(X)\n",
    "    # X_scaled = np.nan_to_num(X_scaled)\n",
    "    y = split.labels_to_numpy()\n",
    "    mae_prediction.append(predicted_mean_error(X_scaled, y, w, b))\n",
    "    mae_forest.append(forest_mean_error(X_scaled, y, random_forest_regressor))\n",
    "\n",
    "# Plot bars for each set\n",
    "plot_mean_errors(mae_naive, mae_prediction, mae_forest, labels=['TRAIN', 'CV', 'TEST'])\n",
    "\n",
    "print(f\"Improvement on Train from Bassline: {(-1*((mae_prediction[0] - mae_naive[0]) / mae_naive[0]) * 100):0.2f}%\")\n",
    "print(f\"Improvement on CV from Bassline: {(-1*((mae_prediction[1] - mae_naive[1]) / mae_naive[1]) * 100):0.2f}%\")\n",
    "print(f\"Improvement on Test  from Bassline: {(-1*((mae_prediction[2] - mae_naive[2]) / mae_naive[2]) * 100):0.2f}%\")"
   ]
  },
  {
   "cell_type": "code",
   "execution_count": null,
   "id": "5f7019a2-0a1f-448d-b67f-c620b6d5fe51",
   "metadata": {},
   "outputs": [],
   "source": []
  }
 ],
 "metadata": {
  "kernelspec": {
   "display_name": "Python (cs129)",
   "language": "python",
   "name": "cs129"
  },
  "language_info": {
   "codemirror_mode": {
    "name": "ipython",
    "version": 3
   },
   "file_extension": ".py",
   "mimetype": "text/x-python",
   "name": "python",
   "nbconvert_exporter": "python",
   "pygments_lexer": "ipython3",
   "version": "3.11.5"
  }
 },
 "nbformat": 4,
 "nbformat_minor": 5
}
